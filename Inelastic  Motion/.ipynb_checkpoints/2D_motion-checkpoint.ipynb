{
 "cells": [
  {
   "cell_type": "code",
   "execution_count": 2,
   "id": "eb234415-8da1-4c41-b7ab-650faf3e7611",
   "metadata": {},
   "outputs": [
    {
     "ename": "OSError",
     "evalue": "Unable to locate Ghostscript on paths",
     "output_type": "error",
     "traceback": [
      "\u001b[1;31m---------------------------------------------------------------------------\u001b[0m",
      "\u001b[1;31mOSError\u001b[0m                                   Traceback (most recent call last)",
      "Cell \u001b[1;32mIn[2], line 89\u001b[0m\n\u001b[0;32m     86\u001b[0m     time\u001b[38;5;241m.\u001b[39msleep(time_step)\n\u001b[0;32m     88\u001b[0m \u001b[38;5;66;03m# Convert frames to a GIF\u001b[39;00m\n\u001b[1;32m---> 89\u001b[0m images \u001b[38;5;241m=\u001b[39m [Image\u001b[38;5;241m.\u001b[39mopen(frame)\u001b[38;5;241m.\u001b[39mconvert(\u001b[38;5;124m\"\u001b[39m\u001b[38;5;124mRGB\u001b[39m\u001b[38;5;124m\"\u001b[39m) \u001b[38;5;28;01mfor\u001b[39;00m frame \u001b[38;5;129;01min\u001b[39;00m frames]\n\u001b[0;32m     90\u001b[0m images[\u001b[38;5;241m0\u001b[39m]\u001b[38;5;241m.\u001b[39msave(\u001b[38;5;124m\"\u001b[39m\u001b[38;5;124mball_simulation.gif\u001b[39m\u001b[38;5;124m\"\u001b[39m, save_all\u001b[38;5;241m=\u001b[39m\u001b[38;5;28;01mTrue\u001b[39;00m, append_images\u001b[38;5;241m=\u001b[39mimages[\u001b[38;5;241m1\u001b[39m:], duration\u001b[38;5;241m=\u001b[39m\u001b[38;5;241m50\u001b[39m, loop\u001b[38;5;241m=\u001b[39m\u001b[38;5;241m0\u001b[39m)\n\u001b[0;32m     92\u001b[0m \u001b[38;5;28mprint\u001b[39m(\u001b[38;5;124m\"\u001b[39m\u001b[38;5;124mGIF saved as \u001b[39m\u001b[38;5;124m'\u001b[39m\u001b[38;5;124mball_simulation.gif\u001b[39m\u001b[38;5;124m'\u001b[39m\u001b[38;5;124m\"\u001b[39m)\n",
      "File \u001b[1;32m~\\anaconda3\\Lib\\site-packages\\PIL\\Image.py:995\u001b[0m, in \u001b[0;36mImage.convert\u001b[1;34m(self, mode, matrix, dither, palette, colors)\u001b[0m\n\u001b[0;32m    992\u001b[0m \u001b[38;5;28;01mif\u001b[39;00m mode \u001b[38;5;129;01min\u001b[39;00m (\u001b[38;5;124m\"\u001b[39m\u001b[38;5;124mBGR;15\u001b[39m\u001b[38;5;124m\"\u001b[39m, \u001b[38;5;124m\"\u001b[39m\u001b[38;5;124mBGR;16\u001b[39m\u001b[38;5;124m\"\u001b[39m, \u001b[38;5;124m\"\u001b[39m\u001b[38;5;124mBGR;24\u001b[39m\u001b[38;5;124m\"\u001b[39m):\n\u001b[0;32m    993\u001b[0m     deprecate(mode, \u001b[38;5;241m12\u001b[39m)\n\u001b[1;32m--> 995\u001b[0m \u001b[38;5;28mself\u001b[39m\u001b[38;5;241m.\u001b[39mload()\n\u001b[0;32m    997\u001b[0m has_transparency \u001b[38;5;241m=\u001b[39m \u001b[38;5;124m\"\u001b[39m\u001b[38;5;124mtransparency\u001b[39m\u001b[38;5;124m\"\u001b[39m \u001b[38;5;129;01min\u001b[39;00m \u001b[38;5;28mself\u001b[39m\u001b[38;5;241m.\u001b[39minfo\n\u001b[0;32m    998\u001b[0m \u001b[38;5;28;01mif\u001b[39;00m \u001b[38;5;129;01mnot\u001b[39;00m mode \u001b[38;5;129;01mand\u001b[39;00m \u001b[38;5;28mself\u001b[39m\u001b[38;5;241m.\u001b[39mmode \u001b[38;5;241m==\u001b[39m \u001b[38;5;124m\"\u001b[39m\u001b[38;5;124mP\u001b[39m\u001b[38;5;124m\"\u001b[39m:\n\u001b[0;32m    999\u001b[0m     \u001b[38;5;66;03m# determine default mode\u001b[39;00m\n",
      "File \u001b[1;32m~\\anaconda3\\Lib\\site-packages\\PIL\\EpsImagePlugin.py:405\u001b[0m, in \u001b[0;36mEpsImageFile.load\u001b[1;34m(self, scale, transparency)\u001b[0m\n\u001b[0;32m    402\u001b[0m \u001b[38;5;28;01mdef\u001b[39;00m \u001b[38;5;21mload\u001b[39m(\u001b[38;5;28mself\u001b[39m, scale\u001b[38;5;241m=\u001b[39m\u001b[38;5;241m1\u001b[39m, transparency\u001b[38;5;241m=\u001b[39m\u001b[38;5;28;01mFalse\u001b[39;00m):\n\u001b[0;32m    403\u001b[0m     \u001b[38;5;66;03m# Load EPS via Ghostscript\u001b[39;00m\n\u001b[0;32m    404\u001b[0m     \u001b[38;5;28;01mif\u001b[39;00m \u001b[38;5;28mself\u001b[39m\u001b[38;5;241m.\u001b[39mtile:\n\u001b[1;32m--> 405\u001b[0m         \u001b[38;5;28mself\u001b[39m\u001b[38;5;241m.\u001b[39mim \u001b[38;5;241m=\u001b[39m Ghostscript(\u001b[38;5;28mself\u001b[39m\u001b[38;5;241m.\u001b[39mtile, \u001b[38;5;28mself\u001b[39m\u001b[38;5;241m.\u001b[39msize, \u001b[38;5;28mself\u001b[39m\u001b[38;5;241m.\u001b[39mfp, scale, transparency)\n\u001b[0;32m    406\u001b[0m         \u001b[38;5;28mself\u001b[39m\u001b[38;5;241m.\u001b[39m_mode \u001b[38;5;241m=\u001b[39m \u001b[38;5;28mself\u001b[39m\u001b[38;5;241m.\u001b[39mim\u001b[38;5;241m.\u001b[39mmode\n\u001b[0;32m    407\u001b[0m         \u001b[38;5;28mself\u001b[39m\u001b[38;5;241m.\u001b[39m_size \u001b[38;5;241m=\u001b[39m \u001b[38;5;28mself\u001b[39m\u001b[38;5;241m.\u001b[39mim\u001b[38;5;241m.\u001b[39msize\n",
      "File \u001b[1;32m~\\anaconda3\\Lib\\site-packages\\PIL\\EpsImagePlugin.py:74\u001b[0m, in \u001b[0;36mGhostscript\u001b[1;34m(tile, size, fp, scale, transparency)\u001b[0m\n\u001b[0;32m     72\u001b[0m \u001b[38;5;28;01mif\u001b[39;00m \u001b[38;5;129;01mnot\u001b[39;00m has_ghostscript():\n\u001b[0;32m     73\u001b[0m     msg \u001b[38;5;241m=\u001b[39m \u001b[38;5;124m\"\u001b[39m\u001b[38;5;124mUnable to locate Ghostscript on paths\u001b[39m\u001b[38;5;124m\"\u001b[39m\n\u001b[1;32m---> 74\u001b[0m     \u001b[38;5;28;01mraise\u001b[39;00m \u001b[38;5;167;01mOSError\u001b[39;00m(msg)\n\u001b[0;32m     76\u001b[0m \u001b[38;5;66;03m# Unpack decoder tile\u001b[39;00m\n\u001b[0;32m     77\u001b[0m decoder, tile, offset, data \u001b[38;5;241m=\u001b[39m tile[\u001b[38;5;241m0\u001b[39m]\n",
      "\u001b[1;31mOSError\u001b[0m: Unable to locate Ghostscript on paths"
     ]
    }
   ],
   "source": [
    "import turtle\n",
    "import time\n",
    "from PIL import Image\n",
    "\n",
    "# Constants\n",
    "gravity = -9.8  # Gravitational acceleration (pixels per second^2)\n",
    "dissipation = 0.7  # Energy loss per bounce (coefficient of restitution)\n",
    "time_step = 0.02  # Time increment for simulation (seconds)\n",
    "air_resistance = 0.01  # Air resistance coefficient\n",
    "friction_coefficient = 0.05  # Coefficient of friction\n",
    "\n",
    "# Ball properties\n",
    "mass = 5  # Mass of the ball (kilograms)\n",
    "x, y = -300, 10  # Starting position of the ball\n",
    "vx, vy = 30, -10  # Initial velocity of the ball (pixels per second)\n",
    "radius = 10  # Radius of the ball\n",
    "\n",
    "# Screen setup\n",
    "screen = turtle.Screen()\n",
    "screen.bgcolor(\"white\")\n",
    "screen.setup(width=450, height=450)\n",
    "screen.tracer(0)  # Turn off automatic updates for frame control\n",
    "\n",
    "# Ball setup\n",
    "ball = turtle.Turtle()\n",
    "ball.shape(\"circle\")\n",
    "ball.color(\"blue\")\n",
    "ball.penup()\n",
    "ball.goto(x, y)\n",
    "\n",
    "# Frame capture list\n",
    "frames = []\n",
    "\n",
    "# Simulation loop\n",
    "for frame_count in range(200):  # Limit to 200 frames for the GIF\n",
    "    # Air resistance force (opposite direction of velocity)\n",
    "    air_force_x = -air_resistance * vx\n",
    "    air_force_y = -air_resistance * vy\n",
    "\n",
    "    # Friction force (only when the ball is on the ground)\n",
    "    if y - radius <= -screen.window_height() // 2:\n",
    "        normal_force = mass * abs(gravity)  # Normal force due to gravity\n",
    "        friction_force = friction_coefficient * normal_force\n",
    "        if vx > 0:\n",
    "            vx -= (friction_force / mass) * time_step\n",
    "            if vx < 0:\n",
    "                vx = 0  # Stop completely if velocity is very small\n",
    "        elif vx < 0:\n",
    "            vx += (friction_force / mass) * time_step\n",
    "            if vx > 0:\n",
    "                vx = 0  # Stop completely if velocity is very small\n",
    "\n",
    "    # Update velocity with gravity and air resistance\n",
    "    vx += (air_force_x / mass) * time_step\n",
    "    vy += (gravity + (air_force_y / mass)) * time_step\n",
    "\n",
    "    # Update position\n",
    "    x += vx * time_step\n",
    "    y += vy * time_step\n",
    "\n",
    "    # Collision with ground\n",
    "    if y - radius < -screen.window_height() // 2:\n",
    "        y = -screen.window_height() // 2 + radius  # Reset position\n",
    "        vy = -vy * dissipation  # Reverse and reduce vertical velocity\n",
    "\n",
    "    # Collision with walls\n",
    "    if x - radius < -screen.window_width() // 2:\n",
    "        x = -screen.window_width() // 2 + radius\n",
    "        vx = -vx * dissipation  # Reverse and reduce horizontal velocity\n",
    "    elif x + radius > screen.window_width() // 2:\n",
    "        x = screen.window_width() // 2 - radius\n",
    "        vx = -vx * dissipation  # Reverse and reduce horizontal velocity\n",
    "\n",
    "    # Update ball position\n",
    "    ball.goto(x, y)\n",
    "\n",
    "    # Capture the screen and append to frames\n",
    "    canvas = screen.getcanvas()\n",
    "    canvas.postscript(file=f\"frame_{frame_count:03d}.eps\")\n",
    "    frames.append(f\"frame_{frame_count:03d}.eps\")\n",
    "\n",
    "    # Update the screen\n",
    "    screen.update()\n",
    "\n",
    "    # Pause for a short time to control simulation speed\n",
    "    time.sleep(time_step)\n",
    "\n",
    "# Convert frames to a GIF\n",
    "images = [Image.open(frame).convert(\"RGB\") for frame in frames]\n",
    "images[0].save(\"ball_simulation.gif\", save_all=True, append_images=images[1:], duration=50, loop=0)\n",
    "\n",
    "print(\"GIF saved as 'ball_simulation.gif'\")\n"
   ]
  },
  {
   "cell_type": "code",
   "execution_count": 1,
   "id": "9147bd2c-433d-45a2-86c7-ce172e691a23",
   "metadata": {},
   "outputs": [
    {
     "name": "stdout",
     "output_type": "stream",
     "text": [
      "Requirement already satisfied: pillow in c:\\users\\thomd\\anaconda3\\lib\\site-packages (10.4.0)\n",
      "Note: you may need to restart the kernel to use updated packages.\n"
     ]
    }
   ],
   "source": [
    "pip install pillow"
   ]
  },
  {
   "cell_type": "code",
   "execution_count": null,
   "id": "de1a0ea4-d61b-4c1a-9663-36774f30fa80",
   "metadata": {},
   "outputs": [],
   "source": []
  }
 ],
 "metadata": {
  "kernelspec": {
   "display_name": "Python 3 (ipykernel)",
   "language": "python",
   "name": "python3"
  },
  "language_info": {
   "codemirror_mode": {
    "name": "ipython",
    "version": 3
   },
   "file_extension": ".py",
   "mimetype": "text/x-python",
   "name": "python",
   "nbconvert_exporter": "python",
   "pygments_lexer": "ipython3",
   "version": "3.12.7"
  }
 },
 "nbformat": 4,
 "nbformat_minor": 5
}
